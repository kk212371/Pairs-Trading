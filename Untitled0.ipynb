{
  "nbformat": 4,
  "nbformat_minor": 0,
  "metadata": {
    "colab": {
      "provenance": [],
      "authorship_tag": "ABX9TyMjSDGb3/yfebWkFSK8keVc",
      "include_colab_link": true
    },
    "kernelspec": {
      "name": "python3",
      "display_name": "Python 3"
    },
    "language_info": {
      "name": "python"
    }
  },
  "cells": [
    {
      "cell_type": "markdown",
      "metadata": {
        "id": "view-in-github",
        "colab_type": "text"
      },
      "source": [
        "<a href=\"https://colab.research.google.com/github/kk212371/Pairs-Trading/blob/main/Untitled0.ipynb\" target=\"_parent\"><img src=\"https://colab.research.google.com/assets/colab-badge.svg\" alt=\"Open In Colab\"/></a>"
      ]
    },
    {
      "cell_type": "code",
      "execution_count": 2,
      "metadata": {
        "id": "TzGwpX7yzuk7"
      },
      "outputs": [],
      "source": [
        "import yfinance as yf\n",
        "import pandas as pd\n",
        "import numpy as np\n",
        "import matplotlib.pyplot as plt\n",
        "import statsmodels.api as sm\n",
        "from statsmodels.tsa.stattools import coint\n"
      ]
    },
    {
      "cell_type": "code",
      "source": [
        "# 📌 Step 2: 下载数据\n",
        "# 例子：微软 (MSFT) 和 苹果 (AAPL)\n",
        "start_date = \"2020-01-01\"\n",
        "end_date = \"2023-01-01\"\n",
        "\n",
        "stock1 = yf.download(\"MSFT\", start=start_date, end=end_date)[\"Adj Close\"]\n",
        "stock2 = yf.download(\"AAPL\", start=start_date, end=end_date)[\"Adj Close\"]\n",
        "\n",
        "prices = pd.DataFrame({\"MSFT\": stock1, \"AAPL\": stock2})\n",
        "prices.dropna(inplace=True)\n",
        "prices.head()\n"
      ],
      "metadata": {
        "id": "dgmNU4dn1Sax"
      },
      "execution_count": null,
      "outputs": []
    },
    {
      "cell_type": "code",
      "source": [
        "# 📌 Step 3: 可视化价格\n",
        "prices.plot(figsize=(12,6), title=\"Stock Prices (MSFT vs AAPL)\")\n",
        "plt.show()\n"
      ],
      "metadata": {
        "id": "vuAZRgPu1Sn0"
      },
      "execution_count": null,
      "outputs": []
    },
    {
      "cell_type": "code",
      "source": [
        "# 📌 Step 4: 协整检验\n",
        "score, p_value, _ = coint(prices[\"MSFT\"], prices[\"AAPL\"])\n",
        "print(\"Cointegration test p-value:\", p_value)\n"
      ],
      "metadata": {
        "id": "cJCvUfbo1Sv2"
      },
      "execution_count": null,
      "outputs": []
    },
    {
      "cell_type": "code",
      "source": [
        "# 📌 Step 5: 构造价差（spread）\n",
        "# 简单方法：线性回归拟合关系\n",
        "X = sm.add_constant(prices[\"AAPL\"])\n",
        "model = sm.OLS(prices[\"MSFT\"], X).fit()\n",
        "hedge_ratio = model.params[1]\n",
        "print(\"Hedge ratio:\", hedge_ratio)\n",
        "\n",
        "spread = prices[\"MSFT\"] - hedge_ratio * prices[\"AAPL\"]\n",
        "spread.plot(figsize=(12,6), title=\"Spread\")\n",
        "plt.show()\n"
      ],
      "metadata": {
        "id": "hSf7pIaM1SyR"
      },
      "execution_count": null,
      "outputs": []
    },
    {
      "cell_type": "code",
      "source": [
        "# 📌 Step 6: Z-score 标准化\n",
        "spread_mean = spread.mean()\n",
        "spread_std = spread.std()\n",
        "zscore = (spread - spread_mean) / spread_std\n",
        "\n",
        "zscore.plot(figsize=(12,6), title=\"Spread Z-score\")\n",
        "plt.axhline(1.0, color='red', linestyle='--')\n",
        "plt.axhline(-1.0, color='green', linestyle='--')\n",
        "plt.axhline(0.0, color='black')\n",
        "plt.show()\n"
      ],
      "metadata": {
        "id": "hMJchq_S1S0y"
      },
      "execution_count": null,
      "outputs": []
    },
    {
      "cell_type": "code",
      "source": [],
      "metadata": {
        "id": "fafcJE3X1ffL"
      },
      "execution_count": null,
      "outputs": []
    },
    {
      "cell_type": "code",
      "source": [],
      "metadata": {
        "id": "xMAd1Xv41fhl"
      },
      "execution_count": null,
      "outputs": []
    },
    {
      "cell_type": "code",
      "source": [],
      "metadata": {
        "id": "hKfgzu1a1fkX"
      },
      "execution_count": null,
      "outputs": []
    },
    {
      "cell_type": "code",
      "source": [],
      "metadata": {
        "id": "NeTp-nCk1fmt"
      },
      "execution_count": null,
      "outputs": []
    }
  ]
}